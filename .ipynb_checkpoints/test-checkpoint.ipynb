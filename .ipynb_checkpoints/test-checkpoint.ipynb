{
 "cells": [
  {
   "cell_type": "code",
   "execution_count": 4,
   "id": "4ae34006",
   "metadata": {},
   "outputs": [
    {
     "data": {
      "text/plain": [
       "<module 'data' from '/Users/amolmenon/Documents/Spring 2023/CMSC472/cmsc472_medicaldiagnosis/data.py'>"
      ]
     },
     "execution_count": 4,
     "metadata": {},
     "output_type": "execute_result"
    }
   ],
   "source": [
    "import importlib\n",
    "import pydicom as dicom\n",
    "\n",
    "import data\n",
    "import torch\n",
    "import torchvision.transforms as transforms\n",
    "\n",
    "import matplotlib.pylab as plt\n",
    "from PIL import Image\n",
    "import numpy as np\n",
    "import cv2\n",
    "import os\n",
    "importlib.reload(data)"
   ]
  },
  {
   "cell_type": "code",
   "execution_count": 9,
   "id": "06e9f71f",
   "metadata": {},
   "outputs": [
    {
     "name": "stdout",
     "output_type": "stream",
     "text": [
      "ID_0000_AGE_0060_CONTRAST_1_CT.dcm\n",
      "ID_0001_AGE_0069_CONTRAST_1_CT.dcm\n",
      "ID_0002_AGE_0074_CONTRAST_1_CT.dcm\n",
      "ID_0003_AGE_0075_CONTRAST_1_CT.dcm\n",
      "ID_0004_AGE_0056_CONTRAST_1_CT.dcm\n",
      "ID_0005_AGE_0048_CONTRAST_1_CT.dcm\n",
      "ID_0006_AGE_0075_CONTRAST_1_CT.dcm\n",
      "ID_0007_AGE_0061_CONTRAST_1_CT.dcm\n",
      "ID_0008_AGE_0051_CONTRAST_1_CT.dcm\n",
      "ID_0009_AGE_0048_CONTRAST_1_CT.dcm\n",
      "ID_0010_AGE_0060_CONTRAST_1_CT.dcm\n",
      "ID_0011_AGE_0061_CONTRAST_1_CT.dcm\n",
      "ID_0012_AGE_0061_CONTRAST_1_CT.dcm\n",
      "ID_0013_AGE_0060_CONTRAST_1_CT.dcm\n",
      "ID_0014_AGE_0071_CONTRAST_1_CT.dcm\n",
      "ID_0015_AGE_0061_CONTRAST_1_CT.dcm\n",
      "ID_0016_AGE_0063_CONTRAST_1_CT.dcm\n",
      "ID_0017_AGE_0060_CONTRAST_1_CT.dcm\n",
      "ID_0018_AGE_0074_CONTRAST_1_CT.dcm\n",
      "ID_0019_AGE_0070_CONTRAST_1_CT.dcm\n",
      "ID_0020_AGE_0066_CONTRAST_1_CT.dcm\n",
      "ID_0021_AGE_0067_CONTRAST_1_CT.dcm\n",
      "ID_0022_AGE_0074_CONTRAST_1_CT.dcm\n",
      "ID_0023_AGE_0061_CONTRAST_1_CT.dcm\n",
      "ID_0024_AGE_0060_CONTRAST_1_CT.dcm\n",
      "ID_0025_AGE_0074_CONTRAST_1_CT.dcm\n",
      "ID_0026_AGE_0070_CONTRAST_1_CT.dcm\n",
      "ID_0027_AGE_0064_CONTRAST_1_CT.dcm\n",
      "ID_0028_AGE_0074_CONTRAST_1_CT.dcm\n",
      "ID_0029_AGE_0078_CONTRAST_1_CT.dcm\n",
      "ID_0030_AGE_0076_CONTRAST_1_CT.dcm\n",
      "ID_0031_AGE_0039_CONTRAST_1_CT.dcm\n",
      "ID_0032_AGE_0061_CONTRAST_1_CT.dcm\n",
      "ID_0033_AGE_0071_CONTRAST_1_CT.dcm\n",
      "ID_0034_AGE_0061_CONTRAST_1_CT.dcm\n",
      "ID_0035_AGE_0059_CONTRAST_1_CT.dcm\n",
      "ID_0036_AGE_0074_CONTRAST_1_CT.dcm\n",
      "ID_0037_AGE_0074_CONTRAST_1_CT.dcm\n",
      "ID_0038_AGE_0071_CONTRAST_1_CT.dcm\n",
      "ID_0039_AGE_0074_CONTRAST_1_CT.dcm\n",
      "ID_0040_AGE_0069_CONTRAST_1_CT.dcm\n",
      "ID_0041_AGE_0045_CONTRAST_1_CT.dcm\n",
      "ID_0042_AGE_0071_CONTRAST_1_CT.dcm\n",
      "ID_0043_AGE_0069_CONTRAST_1_CT.dcm\n",
      "ID_0044_AGE_0072_CONTRAST_1_CT.dcm\n",
      "ID_0045_AGE_0074_CONTRAST_1_CT.dcm\n",
      "ID_0046_AGE_0072_CONTRAST_1_CT.dcm\n",
      "ID_0047_AGE_0069_CONTRAST_1_CT.dcm\n",
      "ID_0048_AGE_0077_CONTRAST_1_CT.dcm\n",
      "ID_0049_AGE_0061_CONTRAST_1_CT.dcm\n",
      "ID_0050_AGE_0074_CONTRAST_0_CT.dcm\n",
      "ID_0051_AGE_0063_CONTRAST_0_CT.dcm\n",
      "ID_0052_AGE_0072_CONTRAST_0_CT.dcm\n",
      "ID_0053_AGE_0073_CONTRAST_0_CT.dcm\n",
      "ID_0054_AGE_0082_CONTRAST_0_CT.dcm\n",
      "ID_0055_AGE_0071_CONTRAST_0_CT.dcm\n",
      "ID_0056_AGE_0083_CONTRAST_0_CT.dcm\n",
      "ID_0057_AGE_0049_CONTRAST_0_CT.dcm\n",
      "ID_0058_AGE_0082_CONTRAST_0_CT.dcm\n",
      "ID_0059_AGE_0074_CONTRAST_0_CT.dcm\n",
      "ID_0060_AGE_0080_CONTRAST_0_CT.dcm\n",
      "ID_0061_AGE_0074_CONTRAST_0_CT.dcm\n",
      "ID_0062_AGE_0067_CONTRAST_0_CT.dcm\n",
      "ID_0063_AGE_0073_CONTRAST_0_CT.dcm\n",
      "ID_0064_AGE_0058_CONTRAST_0_CT.dcm\n",
      "ID_0065_AGE_0082_CONTRAST_0_CT.dcm\n",
      "ID_0066_AGE_0082_CONTRAST_0_CT.dcm\n",
      "ID_0067_AGE_0060_CONTRAST_0_CT.dcm\n",
      "ID_0068_AGE_0072_CONTRAST_0_CT.dcm\n",
      "ID_0069_AGE_0074_CONTRAST_0_CT.dcm\n",
      "ID_0070_AGE_0074_CONTRAST_0_CT.dcm\n",
      "ID_0071_AGE_0065_CONTRAST_0_CT.dcm\n",
      "ID_0072_AGE_0060_CONTRAST_0_CT.dcm\n",
      "ID_0073_AGE_0074_CONTRAST_0_CT.dcm\n",
      "ID_0074_AGE_0074_CONTRAST_0_CT.dcm\n",
      "ID_0075_AGE_0080_CONTRAST_0_CT.dcm\n",
      "ID_0076_AGE_0068_CONTRAST_0_CT.dcm\n",
      "ID_0077_AGE_0074_CONTRAST_0_CT.dcm\n",
      "ID_0078_AGE_0066_CONTRAST_0_CT.dcm\n",
      "ID_0079_AGE_0071_CONTRAST_0_CT.dcm\n",
      "ID_0080_AGE_0070_CONTRAST_0_CT.dcm\n",
      "ID_0081_AGE_0058_CONTRAST_0_CT.dcm\n",
      "ID_0082_AGE_0047_CONTRAST_0_CT.dcm\n",
      "ID_0083_AGE_0082_CONTRAST_0_CT.dcm\n",
      "ID_0084_AGE_0067_CONTRAST_0_CT.dcm\n",
      "ID_0085_AGE_0067_CONTRAST_0_CT.dcm\n",
      "ID_0086_AGE_0073_CONTRAST_0_CT.dcm\n",
      "ID_0087_AGE_0044_CONTRAST_0_CT.dcm\n",
      "ID_0088_AGE_0067_CONTRAST_0_CT.dcm\n",
      "ID_0089_AGE_0071_CONTRAST_0_CT.dcm\n",
      "ID_0090_AGE_0067_CONTRAST_0_CT.dcm\n",
      "ID_0091_AGE_0072_CONTRAST_0_CT.dcm\n",
      "ID_0092_AGE_0072_CONTRAST_0_CT.dcm\n",
      "ID_0093_AGE_0067_CONTRAST_0_CT.dcm\n",
      "ID_0094_AGE_0052_CONTRAST_0_CT.dcm\n",
      "ID_0095_AGE_0071_CONTRAST_0_CT.dcm\n",
      "ID_0096_AGE_0083_CONTRAST_0_CT.dcm\n",
      "ID_0097_AGE_0060_CONTRAST_0_CT.dcm\n",
      "ID_0098_AGE_0061_CONTRAST_0_CT.dcm\n",
      "ID_0099_AGE_0061_CONTRAST_0_CT.dcm\n"
     ]
    }
   ],
   "source": [
    "data_dir = 'data/lung/'\n",
    "files_list = os.listdir(data_dir)\n",
    "for f in sorted(files_list):\n",
    "    print(f)"
   ]
  },
  {
   "cell_type": "code",
   "execution_count": 94,
   "id": "3a5d3b46",
   "metadata": {},
   "outputs": [],
   "source": [
    "lung_dataset = data.BodyPartDataset('lung', data.load_lung_data, 'data/lung/')\n",
    "breast_dataset = data.BodyPartDataset('breast', data.load_breast_data, 'data/breast/')\n",
    "brain_dataset = data.BodyPartDataset('brain', data.load_brain_data, 'data/brain/')"
   ]
  },
  {
   "cell_type": "code",
   "execution_count": 63,
   "id": "4f74e459",
   "metadata": {},
   "outputs": [],
   "source": [
    "train_dataset, test_dataset = torch.utils.data.random_split(lung_dataset, [0.8, 0.2])"
   ]
  },
  {
   "cell_type": "code",
   "execution_count": 64,
   "id": "0a7c8ce8",
   "metadata": {},
   "outputs": [],
   "source": [
    "def rgb_to_grayscale(tensor):\n",
    "    weights = torch.tensor([0.2989, 0.5870, 0.1140]).view(1, 3, 1, 1).to(tensor.device)\n",
    "    grayscale_tensor = (tensor * weights).sum(dim=1, keepdim=True)\n",
    "    return grayscale_tensor"
   ]
  },
  {
   "cell_type": "code",
   "execution_count": 65,
   "id": "23265263",
   "metadata": {},
   "outputs": [
    {
     "data": {
      "text/plain": [
       "torch.Size([50, 50])"
      ]
     },
     "execution_count": 65,
     "metadata": {},
     "output_type": "execute_result"
    }
   ],
   "source": [
    "breast_dataset[0][0].size()"
   ]
  },
  {
   "cell_type": "code",
   "execution_count": 68,
   "id": "c5ad96e4",
   "metadata": {},
   "outputs": [],
   "source": [
    "full_dataset = data.MultiPartDataset([lung_dataset, breast_dataset, brain_dataset])"
   ]
  },
  {
   "cell_type": "code",
   "execution_count": 83,
   "id": "1270890b",
   "metadata": {},
   "outputs": [
    {
     "data": {
      "text/plain": [
       "(tensor([[242.3887, 242.3887, 242.3887,  ...,  82.4079, 111.8871, 114.5879],\n",
       "         [242.3887, 242.3887, 242.3887,  ...,  79.8609,  96.3663,  97.4168],\n",
       "         [242.3887, 242.3887, 242.3887,  ..., 119.7089,  81.7007, 118.2870],\n",
       "         ...,\n",
       "         [242.9757, 242.9757, 242.3887,  ..., 242.3887, 242.5520, 240.6277],\n",
       "         [242.9757, 242.9757, 242.3887,  ..., 243.1498, 241.7416, 240.6878],\n",
       "         [242.3887, 242.3887, 242.3887,  ..., 242.6275, 240.5029, 243.0897]]),\n",
       " tensor(0))"
      ]
     },
     "execution_count": 83,
     "metadata": {},
     "output_type": "execute_result"
    }
   ],
   "source": [
    "breast_dataset[5]"
   ]
  },
  {
   "cell_type": "code",
   "execution_count": 109,
   "id": "a7bc86fb",
   "metadata": {},
   "outputs": [],
   "source": [
    "img = cv2.imread(\"data/brain/TCGA_HT_8563_19981209_9.tif\")\n"
   ]
  },
  {
   "cell_type": "code",
   "execution_count": 127,
   "id": "ab045dea",
   "metadata": {},
   "outputs": [],
   "source": [
    "image_path = 'dicom_dir/ID_0091_AGE_0072_CONTRAST_0_CT.dcm'\n",
    "ds = dicom.dcmread(image_path)"
   ]
  },
  {
   "cell_type": "code",
   "execution_count": null,
   "id": "57f0fcf8",
   "metadata": {},
   "outputs": [],
   "source": []
  }
 ],
 "metadata": {
  "kernelspec": {
   "display_name": "Python 3 (ipykernel)",
   "language": "python",
   "name": "python3"
  },
  "language_info": {
   "codemirror_mode": {
    "name": "ipython",
    "version": 3
   },
   "file_extension": ".py",
   "mimetype": "text/x-python",
   "name": "python",
   "nbconvert_exporter": "python",
   "pygments_lexer": "ipython3",
   "version": "3.9.16"
  }
 },
 "nbformat": 4,
 "nbformat_minor": 5
}
