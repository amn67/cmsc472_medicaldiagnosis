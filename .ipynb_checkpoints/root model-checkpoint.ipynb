{
 "cells": [
  {
   "cell_type": "code",
   "execution_count": null,
   "id": "4ae34006",
   "metadata": {
    "scrolled": true,
    "tags": []
   },
   "outputs": [],
   "source": [
    "import importlib\n",
    "import pydicom as dicom\n",
    "\n",
    "import data\n",
    "import torch\n",
    "import torchvision.transforms as transforms\n",
    "from torch.utils.data import Dataset, DataLoader\n",
    "import torch.nn.functional as F\n",
    "import torch.nn as nn\n",
    "import matplotlib.pylab as plt\n",
    "from PIL import Image\n",
    "import numpy as np\n",
    "import cv2\n",
    "from sklearn.metrics import precision_score, recall_score, f1_score, cohen_kappa_score\n",
    "importlib.reload(data)"
   ]
  },
  {
   "cell_type": "code",
   "execution_count": null,
   "id": "961afe8d",
   "metadata": {
    "tags": []
   },
   "outputs": [],
   "source": [
    "all_data = data.load_datasets()\n",
    "\n",
    "train_set = all_data['combined']['train']\n",
    "val_set = all_data['combined']['val']"
   ]
  },
  {
   "cell_type": "code",
   "execution_count": null,
   "id": "f404d0c2",
   "metadata": {
    "tags": []
   },
   "outputs": [],
   "source": [
    "batch_size = 32\n",
    "learning_rate = 0.0001\n",
    "epochs = 500"
   ]
  },
  {
   "cell_type": "code",
   "execution_count": null,
   "id": "56c68852",
   "metadata": {
    "tags": []
   },
   "outputs": [],
   "source": [
    "train_dataloader = DataLoader(train_set, batch_size=batch_size, shuffle=True)\n",
    "val_dataloader = DataLoader(val_set, batch_size=batch_size, shuffle=False)"
   ]
  },
  {
   "cell_type": "code",
   "execution_count": null,
   "id": "6814353b",
   "metadata": {
    "tags": []
   },
   "outputs": [],
   "source": [
    "class MultiClassClassifierCNN(nn.Module):\n",
    "    def __init__(self, num_classes):\n",
    "        super(MultiClassClassifierCNN, self).__init__()\n",
    "        self.conv1 = nn.Conv2d(1, 16, kernel_size=3, stride=1, padding=1)\n",
    "        self.relu1 = nn.ReLU()\n",
    "        self.pool1 = nn.MaxPool2d(kernel_size=2, stride=2, padding=0)\n",
    "        self.batchnorm1 = nn.BatchNorm2d(num_features=16)\n",
    "        self.dropout1 = nn.Dropout(0.3)\n",
    "\n",
    "        self.conv2 = nn.Conv2d(16, 32, kernel_size=3, stride=1, padding=1)\n",
    "        self.relu2 = nn.ReLU()\n",
    "        self.pool2 = nn.MaxPool2d(kernel_size=2, stride=2, padding=0)\n",
    "        self.batchnorm2 = nn.BatchNorm2d(num_features=32)\n",
    "        self.dropout2 = nn.Dropout(0.3)\n",
    "\n",
    "        self.conv3 = nn.Conv2d(32, 64, kernel_size=3, stride=1, padding=1)\n",
    "        self.relu3 = nn.ReLU()\n",
    "        self.pool3 = nn.MaxPool2d(kernel_size=2, stride=2, padding=0)\n",
    "        self.batchnorm3 = nn.BatchNorm2d(num_features=64)\n",
    "        self.dropout3 = nn.Dropout(0.3)\n",
    "\n",
    "        self.fc1 = nn.Linear(64 * 32 * 32, 128)\n",
    "        self.relu4 = nn.ReLU()\n",
    "        self.dropout4=nn.Dropout(0.3)\n",
    "        self.fc2 = nn.Linear(128, 1)\n",
    "        self.sigmoid = nn.Sigmoid()\n",
    "\n",
    "    def forward(self, x):\n",
    "        x = self.conv1(x)\n",
    "        x = self.relu1(x)\n",
    "        x = self.pool1(x)\n",
    "        x = self.batchnorm1(x)\n",
    "        x = self.dropout1(x)\n",
    "\n",
    "        x = self.conv2(x)\n",
    "        x = self.relu2(x)\n",
    "        x = self.pool2(x)\n",
    "        x = self.batchnorm2(x)\n",
    "        x = self.dropout2(x)\n",
    "\n",
    "        x = self.conv3(x)\n",
    "        x = self.relu3(x)\n",
    "        x = self.pool3(x)\n",
    "        x = self.batchnorm3(x)\n",
    "        x = self.dropout3(x)\n",
    "\n",
    "        x = x.view(-1, 64 * 32 * 32)\n",
    "        x = self.fc1(x)\n",
    "        x = self.relu4(x)\n",
    "        x = self.dropout4(x)\n",
    "        x = self.fc2(x)\n",
    "        x = self.sigmoid(x)\n",
    "        return x"
   ]
  },
  {
   "cell_type": "code",
   "execution_count": null,
   "id": "e2eb1d81-3f9a-4a39-b794-e3e682b848b1",
   "metadata": {
    "tags": []
   },
   "outputs": [],
   "source": [
    "class MultiClassNet(nn.Module):\n",
    "\n",
    "    def __init__(self, num_classes):\n",
    "        super(MultiClassNet, self).__init__()\n",
    "        self.procedure = nn.Sequential(\n",
    "            nn.Linear(256 * 256, 128),\n",
    "            nn.ReLU(),\n",
    "            nn.Linear(128, 64),\n",
    "            nn.Linear(64, num_classes),\n",
    "            nn.Softmax(dim=1)\n",
    "        )\n",
    "\n",
    "    def forward(self, x):\n",
    "        x = x.view(-1, 256 * 256)\n",
    "        return self.procedure(x)"
   ]
  },
  {
   "cell_type": "code",
   "execution_count": null,
   "id": "5d627129",
   "metadata": {
    "tags": []
   },
   "outputs": [],
   "source": [
    "num_classes = len(all_data.keys()) - 1\n",
    "model = MultiClassNet(num_classes)\n",
    "optim = torch.optim.SGD(model.parameters(), lr = learning_rate) \n",
    "loss_function = nn.CrossEntropyLoss()"
   ]
  },
  {
   "cell_type": "code",
   "execution_count": null,
   "id": "64124345-ba50-4e5b-b707-ab39be3b70dc",
   "metadata": {
    "tags": []
   },
   "outputs": [],
   "source": [
    "train_set.images.mean()"
   ]
  },
  {
   "cell_type": "code",
   "execution_count": null,
   "id": "88f9bc4a",
   "metadata": {
    "scrolled": true,
    "tags": []
   },
   "outputs": [],
   "source": [
    "train_loss_epochs = []\n",
    "val_loss_epochs = []\n",
    "train_accs_epochs = []\n",
    "val_accs_epochs = []\n",
    "\n",
    "pixel_means = train_set.images.mean(dim=0, keepdim=True)\n",
    "pixel_stds = train_set.images.std(dim=0, keepdim=True, unbiased=False)\n",
    "\n",
    "\n",
    "for epoch in range(epochs):\n",
    "\n",
    "    #Training phase\n",
    "    model.train()  #Setting the model to train phase\n",
    "    train_loss = []\n",
    "    val_loss = []\n",
    "\n",
    "    train_accs = []\n",
    "    val_accs = []\n",
    "\n",
    "    for idx, batch in enumerate(train_dataloader):\n",
    "\n",
    "        x = batch[0]\n",
    "        x = (x-pixel_means)/pixel_stds\n",
    "        x = x.unsqueeze(1)\n",
    "        y = batch[1].to(torch.float32)\n",
    "\n",
    "        optim.zero_grad()\n",
    "        out = model(x)\n",
    "        loss = loss_function(out, y)\n",
    "        loss.backward()\n",
    "        optim.step()\n",
    "\n",
    "        \n",
    "        y_pred = F.one_hot(torch.argmax(out, dim=1), num_classes=num_classes)\n",
    "\n",
    "        correct = (y_pred == y).sum().item() / num_classes\n",
    "        train_acc = correct / y.size(0)\n",
    "\n",
    "\n",
    "\n",
    "        #train_acc = torch.sum(torch.square(torch.sub(y, y_pred))).item() / (y.size(dim=0))\n",
    "        #train_acc = (torch.squeeze(y_pred).eq(y)).sum().item() / y.size(dim=0)\n",
    "        \n",
    "        train_accs.append(train_acc)\n",
    "        train_loss.append(loss.item())\n",
    "\n",
    "\n",
    "    #Validation phase\n",
    "    model.eval()  #Setting the model to eval mode, hence making it deterministic.\n",
    "    for idx, batch in enumerate(val_dataloader):\n",
    "        with torch.no_grad():   #Does not calulate the graidents, as in val phase its not needed. Saves on memory.\n",
    "            x = batch[0]\n",
    "            x = (x-pixel_means)/pixel_stds\n",
    "            x = x.unsqueeze(1)\n",
    "            y = batch[1].to(torch.float32)\n",
    "            out = model.forward(x)\n",
    "            loss = loss_function(out, y)\n",
    "            \n",
    "            y_pred = F.one_hot(torch.argmax(out, dim=1), num_classes=num_classes)\n",
    "            \n",
    "            correct = (y_pred == y).sum().item() / num_classes\n",
    "            val_acc = correct / y.size(0)\n",
    "            \n",
    "            val_loss.append(loss.item())\n",
    "            val_accs.append(val_acc)\n",
    "    train_loss_epochs.append(np.mean(train_loss))\n",
    "    val_loss_epochs.append(np.mean(val_loss))\n",
    "    train_accs_epochs.append(np.mean(train_accs))\n",
    "    val_accs_epochs.append(np.mean(val_accs))\n",
    "    if epoch%1==0:\n",
    "        print(\"Epoch : {}, Train loss: {:.5f} , Train Acc: {:.4f}, Val loss: {:.5f}, Val acc: {:.4f}\".format(epoch, np.mean(train_loss), np.mean(train_acc), np.mean(val_loss), np.mean(val_acc)))\n",
    "        \n",
    "        "
   ]
  },
  {
   "cell_type": "code",
   "execution_count": null,
   "id": "fb4fb6cf",
   "metadata": {
    "tags": []
   },
   "outputs": [],
   "source": [
    "plt.figure(figsize=(15, 10))\n",
    "plt.plot(range(1, epochs+1), train_loss_epochs, label='train loss')\n",
    "plt.plot(range(1, epochs+1), val_loss_epochs, label='val loss')\n",
    "plt.xlabel(\"Epoch\", size=14)\n",
    "plt.ylabel(\"Loss\", size=14)\n",
    "plt.title(\"Loss over epochs\")\n",
    "plt.legend()\n",
    "plt.show()"
   ]
  },
  {
   "cell_type": "code",
   "execution_count": null,
   "id": "5ecda4e0",
   "metadata": {},
   "outputs": [],
   "source": [
    "test_set = all_data['combined']['test']\n",
    "parts = test_set.parts\n",
    "parts_idx_map = test_set.parts_idx\n",
    "loaded_part_models = []\n",
    "for part in parts:\n",
    "    with open('./trained_models/{}_model_class.pkl'.format(part), 'rb') as f:\n",
    "        m = pickle.load(f)\n",
    "    m.load_state_dict(torch.load('./trained_models/{}_meta_weights.pth'.format(part)))\n",
    "    loaded_part_models.append(m)\n",
    "\n"
   ]
  },
  {
   "cell_type": "code",
   "execution_count": null,
   "id": "d35c78cf",
   "metadata": {},
   "outputs": [],
   "source": [
    "test_dataloader = DataLoader(test_set, batch_size=len(test_set), shuffle=False)"
   ]
  },
  {
   "cell_type": "code",
   "execution_count": null,
   "id": "a53f2d6b",
   "metadata": {},
   "outputs": [],
   "source": [
    "test_part_preds = []\n",
    "test_benign_preds = []\n",
    "\n",
    "\n",
    "\n",
    "model.eval()\n",
    "for i in range(len(test_set)):\n",
    "    image, part, binary_label = test_set.images[i], test_set.labels[i], test_set.binary_labels[i]\n",
    "    with torch.no_grad():\n",
    "        # Predict which body part\n",
    "        x = image.unsqueeze(0)\n",
    "        x_scaled = (x-pixel_means)/pixel_stds\n",
    "        x_scaled = x_scaled.unsqueeze(1)\n",
    "        x = x.unsqueeze(1)\n",
    "        out = model.forward(x_scaled)\n",
    "        y_pred = F.one_hot(torch.argmax(out, dim=1), num_classes=num_classes)\n",
    "\n",
    "        idx = torch.argmax(y_pred).item()\n",
    "        \n",
    "        # Choose next model and predict if cancer or no cancer\n",
    "        leaf_model = loaded_part_models[idx]\n",
    "        leaf_model.eval()\n",
    "        out_2 = leaf_model.forward(x)\n",
    "        y2_pred = int(out_2.round().item())\n",
    "        \n",
    "        test_part_preds.append(y_pred)\n",
    "        test_benign_preds.append(y2_pred)\n",
    "        \n",
    "        \n",
    "        "
   ]
  },
  {
   "cell_type": "code",
   "execution_count": null,
   "id": "b4353e8d",
   "metadata": {},
   "outputs": [],
   "source": [
    "test_part_preds = torch.stack(test_part_preds).squeeze(1)\n",
    "test_benign_preds = torch.tensor(test_benign_preds).unsqueeze(1)\n",
    "\n",
    "correct = (test_part_preds == test_set.labels).sum().item() / num_classes\n",
    "test_acc = correct / test_set.labels.size(0)\n",
    "print(test_acc)\n",
    "\n",
    "test_acc_2 = (torch.squeeze(test_benign_preds).eq(test_set.binary_labels)).sum().item() / test_set.binary_labels.size(dim=0)\n",
    "print(test_acc_2)\n"
   ]
  },
  {
   "cell_type": "code",
   "execution_count": null,
   "id": "ab98bfc2",
   "metadata": {},
   "outputs": [],
   "source": [
    "from sklearn.metrics import confusion_matrix\n",
    "\n",
    "true_body_part_labels = torch.argmax(test_set.labels, dim=1).numpy()\n",
    "pred_body_part_labels = torch.argmax(test_part_preds, dim=1).numpy()\n",
    "\n",
    "body_part_cm = confusion_matrix(true_body_part_labels, pred_body_part_labels)\n",
    "\n",
    "binary_preds = (test_benign_preds > 0.5).int().squeeze().numpy()\n",
    "binary_labels = test_set.binary_labels.numpy()\n",
    "\n",
    "cancer_cm_list = []\n",
    "for part in range(3):\n",
    "    indices = np.where(true_body_part_labels == part)\n",
    "    cancer_cm = confusion_matrix(binary_labels[indices], binary_preds[indices])\n",
    "    cancer_cm_list.append(cancer_cm)\n",
    "\n",
    "cancer_cm_combined = np.sum(cancer_cm_list, axis=0)"
   ]
  },
  {
   "cell_type": "code",
   "execution_count": null,
   "id": "94cc330b",
   "metadata": {},
   "outputs": [],
   "source": [
    "import itertools\n",
    "\n",
    "def plot_confusion_matrix(cm, classes, title):\n",
    "    plt.imshow(cm, interpolation='nearest', cmap=plt.cm.Blues)\n",
    "    plt.title(title)\n",
    "    plt.colorbar()\n",
    "    tick_marks = np.arange(len(classes))\n",
    "    plt.xticks(tick_marks, classes, rotation=45)\n",
    "    plt.yticks(tick_marks, classes)\n",
    "\n",
    "    fmt = 'd'\n",
    "    thresh = cm.max() / 2.\n",
    "    for i, j in itertools.product(range(cm.shape[0]), range(cm.shape[1])):\n",
    "        plt.text(j, i, format(cm[i, j], fmt),\n",
    "                 horizontalalignment=\"center\",\n",
    "                 color=\"white\" if cm[i, j] > thresh else \"black\")\n",
    "\n",
    "    plt.ylabel('True label')\n",
    "    plt.xlabel('Predicted label')\n",
    "    plt.tight_layout()\n",
    "\n",
    "# Plot confusion matrix for body part classification\n",
    "plt.figure()\n",
    "plot_confusion_matrix(body_part_cm, classes=parts,\n",
    "                      title='Confusion matrix for body part classification')\n",
    "plt.show()\n",
    "\n",
    "# Plot confusion matrix for cancer classification\n",
    "plt.figure()\n",
    "plot_confusion_matrix(cancer_cm_combined, classes=['No cancer', 'Cancer'],\n",
    "                      title='Confusion matrix for cancer classification')\n",
    "plt.show()\n"
   ]
  },
  {
   "cell_type": "code",
   "execution_count": null,
   "id": "723527b8",
   "metadata": {},
   "outputs": [],
   "source": [
    "import scipy.ndimage as nd\n",
    "\n",
    "def surfd(input1, input2, sampling=1, connectivity=1):\n",
    "    \n",
    "    input_1 = np.atleast_1d(input1.astype(bool))\n",
    "    input_2 = np.atleast_1d(input2.astype(bool))\n",
    "\t\n",
    "    conn = nd.generate_binary_structure(input_1.ndim, connectivity)\n",
    "\n",
    "    S = input_1 ^ nd.binary_erosion(input_1, conn)\n",
    "    Sprime = input_2 ^ nd.binary_erosion(input_2, conn)\n",
    "\t\n",
    "    dta = nd.distance_transform_edt(~S,sampling)\n",
    "    dtb = nd.distance_transform_edt(~Sprime,sampling)\n",
    "    \n",
    "    sds = np.concatenate([np.ravel(dta[Sprime!=0]), np.ravel(dtb[S!=0])])\n",
    "        \n",
    "    return sds"
   ]
  },
  {
   "cell_type": "code",
   "execution_count": null,
   "id": "23384da5",
   "metadata": {},
   "outputs": [],
   "source": [
    "print('Precision for Body Part Classification: %.3f' % precision_score(true_body_part_labels, pred_body_part_labels, average='weighted'))\n",
    "print('Recall for Body Part Classification : %.3f' % recall_score(true_body_part_labels, pred_body_part_labels, average='weighted'))\n",
    "print('F1 Score (DICE Coefficient) for Body Part Classification: %.3f' % f1_score(true_body_part_labels, pred_body_part_labels, average='weighted'))\n",
    "print('Mean Surface Distance for Body Part Classification %.3f'% surfd(true_body_part_labels, pred_body_part_labels).mean())\n",
    "print('Cohen Kappa Score for Body Part Classification: %.3f' % cohen_kappa_score(true_body_part_labels, pred_body_part_labels))"
   ]
  },
  {
   "cell_type": "code",
   "execution_count": null,
   "id": "6299daa9",
   "metadata": {},
   "outputs": [],
   "source": [
    "\n",
    "print('Precision for Cancer Classification: %.3f' % precision_score(binary_labels, binary_preds, average='weighted'))\n",
    "print('Recall for Cancer Classification : %.3f' % recall_score(binary_labels, binary_preds, average='weighted'))\n",
    "print('F1 Score (DICE Coefficient) for Cancer Classification: %.3f' % f1_score(binary_labels, binary_preds, average='weighted'))\n",
    "print('Mean Surface Distance for Cancer Classification %.3f'% surfd(binary_labels, binary_preds).mean())\n",
    "print('Cohen Kappa Score for Cancer Classification: %.3f' % cohen_kappa_score(binary_labels, binary_preds))"
   ]
  },
  {
   "cell_type": "code",
   "execution_count": null,
   "id": "818a2860",
   "metadata": {},
   "outputs": [],
   "source": [
    "cancer_type = ['Lung', 'Breast', 'Brain']\n",
    "for p in range(3):\n",
    "    indices = np.where(true_body_part_labels == p)\n",
    "    cancer_labels = []\n",
    "    cancer_preds=[]\n",
    "    print('Precision for ' + cancer_type[p]+ ' Cancer Classification: %.3f' % precision_score(binary_labels[indices], binary_preds[indices], average='weighted', zero_division= False))\n",
    "    print('Recall for  ' +cancer_type[p]+ '  Cancer Classification : %.3f' % recall_score(binary_labels[indices], binary_preds[indices], average='weighted', zero_division= False))\n",
    "    print('F1 Score (DICE Coefficient) for ' + cancer_type[p]+ ' Cancer Classification: %.3f' % f1_score(binary_labels[indices], binary_preds[indices], average='weighted'))\n",
    "    print('Mean Surface Distance for ' + cancer_type[p] + ' Cancer Classification %.3f'% surfd(binary_labels[indices], binary_preds[indices]).mean())\n",
    "    print('Cohen Kappa Score for ' + cancer_type[p] + ' Cancer Classification: %.3f\\n' % cohen_kappa_score(binary_labels[indices], binary_preds[indices]))\n",
    "    \n",
    "\n",
    "    "
   ]
  }
 ],
 "metadata": {
  "kernelspec": {
   "display_name": "Python 3 (ipykernel)",
   "language": "python",
   "name": "python3"
  },
  "language_info": {
   "codemirror_mode": {
    "name": "ipython",
    "version": 3
   },
   "file_extension": ".py",
   "mimetype": "text/x-python",
   "name": "python",
   "nbconvert_exporter": "python",
   "pygments_lexer": "ipython3",
   "version": "3.9.16"
  }
 },
 "nbformat": 4,
 "nbformat_minor": 5
}
